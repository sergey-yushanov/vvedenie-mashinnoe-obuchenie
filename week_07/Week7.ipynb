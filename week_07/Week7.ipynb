{
 "cells": [
  {
   "cell_type": "code",
   "execution_count": 158,
   "metadata": {},
   "outputs": [],
   "source": [
    "import datetime\n",
    "import pandas as pd\n",
    "import numpy as np\n",
    "import matplotlib.pyplot as plt\n",
    "from sklearn.model_selection import KFold, cross_val_score\n",
    "from sklearn.ensemble import GradientBoostingClassifier\n",
    "from sklearn.preprocessing import StandardScaler\n",
    "from sklearn.linear_model import LogisticRegression"
   ]
  },
  {
   "cell_type": "markdown",
   "metadata": {},
   "source": [
    "# Подход 1: градиентный бустинг \"в лоб\""
   ]
  },
  {
   "cell_type": "markdown",
   "metadata": {},
   "source": [
    "1. Считываем таблицу с признаками из файла features.csv. Удаляем признаки, связанные с итогами матча (кроме столбца с победителем 'radiant_win')."
   ]
  },
  {
   "cell_type": "code",
   "execution_count": 65,
   "metadata": {},
   "outputs": [],
   "source": [
    "features = pd.read_csv('features.csv', index_col = 'match_id')\n",
    "features.drop(['duration', 'tower_status_radiant', 'tower_status_dire', 'barracks_status_radiant', 'barracks_status_dire'], axis = 1, inplace = True)"
   ]
  },
  {
   "cell_type": "markdown",
   "metadata": {},
   "source": [
    "2. Проверяем выборку на наличие пропусков. Запишем названия признаков, имеющих пропуски и доли пропусков от общего числа игр."
   ]
  },
  {
   "cell_type": "code",
   "execution_count": 71,
   "metadata": {},
   "outputs": [
    {
     "name": "stdout",
     "output_type": "stream",
     "text": [
      "first_blood_player2            45.2\n",
      "radiant_flying_courier_time    28.3\n",
      "dire_flying_courier_time       26.8\n",
      "first_blood_player1            20.1\n",
      "first_blood_team               20.1\n",
      "first_blood_time               20.1\n",
      "dire_bottle_time               16.6\n",
      "radiant_bottle_time            16.1\n",
      "dire_first_ward_time            1.9\n",
      "radiant_first_ward_time         1.9\n",
      "dire_courier_time               0.7\n",
      "radiant_courier_time            0.7\n",
      "dtype: float64\n"
     ]
    }
   ],
   "source": [
    "nulls = round(features.isnull().sum()[features.isnull().sum() != 0] / len(features) * 100, 1)\n",
    "print(nulls.sort_values(ascending=False))"
   ]
  },
  {
   "cell_type": "markdown",
   "metadata": {},
   "source": [
    "Обоснование пропусков:\n",
    "\n",
    "* first_blood_time (игровое время до первой крови) - в 20.1% случаев первой крови нет в первые 5 минут игры.\n",
    "* first_blood_team (команда, совершившая первую кровь) - аналогично first_blood_time.\n",
    "* first_blood_player1 (игрок, причастный к первой крови) - аналогично first_blood_time.\n",
    "* first_blood_player2 (второй игрок, причастный к первой крови) - первое убийство может быть совершено одним игроком (без участия второго), это самое частое явление и происходит в 45.2% случаев.\n",
    "\n",
    "* radiant_flying_courier_time (время приобретения предмета 'flying_courier') - в 28.3% случаев команда 'radiant' не приобретает этот предмет в первые 5 минут игры.\n",
    "* dire_flying_courier_time - аналогично для команды 'dire' (26.8%).\n",
    "\n",
    "* radiant_bottle_time (время первого приобретения командой предмета \"bottle\") - в 16.1% случаев команда 'radiant' не приобретает этот предмет в первые 5 минут игры.\n",
    "* dire_bottle_time - аналогично для команды 'dire' (16.6%).\n",
    "\n",
    "* radiant_first_ward_time, dire_first_ward_time (время установки командой первого 'наблюдателя') - очень редкое явление, в 1.9% случаев команды не ставят наблюдателя в первые 5 минут игры.\n",
    "\n",
    "* radiant_courier_time, dire_courier_time (время приобретения предмета 'courier') - самое редкое явление, в 0.7% случаев команды не приобретают этот предмет в первые 5 минут игры."
   ]
  },
  {
   "cell_type": "markdown",
   "metadata": {},
   "source": [
    "3. Заменим пропуски на нули"
   ]
  },
  {
   "cell_type": "code",
   "execution_count": 50,
   "metadata": {},
   "outputs": [],
   "source": [
    "features.fillna(value = 0, inplace = True)"
   ]
  },
  {
   "cell_type": "markdown",
   "metadata": {},
   "source": [
    "4. Целевая переменная в задаче - признак победы команды 'radiant'. Это последний столбец таблицы признаков."
   ]
  },
  {
   "cell_type": "code",
   "execution_count": 51,
   "metadata": {},
   "outputs": [
    {
     "name": "stdout",
     "output_type": "stream",
     "text": [
      "radiant_win\n"
     ]
    }
   ],
   "source": [
    "print(features.columns.values[-1])"
   ]
  },
  {
   "cell_type": "markdown",
   "metadata": {},
   "source": [
    "5. Попробуем обучить градиентный бустинг над деревьями на имеющейся матрице \"объекты-признаки\". Зафиксируем генератор разбиений для кросс-валидации по 5 блокам, перемешаем выборку."
   ]
  },
  {
   "cell_type": "code",
   "execution_count": 52,
   "metadata": {},
   "outputs": [],
   "source": [
    "X_train = features.drop('radiant_win', axis = 1)\n",
    "y_train = features['radiant_win']"
   ]
  },
  {
   "cell_type": "code",
   "execution_count": 53,
   "metadata": {},
   "outputs": [],
   "source": [
    "kf = KFold(n_splits = 5, shuffle = True) # создание генератора разбиений"
   ]
  },
  {
   "cell_type": "markdown",
   "metadata": {},
   "source": [
    "Оценим качество градиентного бустинга с помощью данной кросс-валидации, попробуем при этом разное количество деревьев (10, 20, ..., 250, см. переменную n_list)."
   ]
  },
  {
   "cell_type": "code",
   "execution_count": 61,
   "metadata": {},
   "outputs": [],
   "source": [
    "scores = {}\n",
    "etimes = {}\n",
    "\n",
    "n_list = [10, 20, 30, 50, 100, 150, 200, 250]\n",
    "for n in n_list:\n",
    "    gbc = GradientBoostingClassifier(n_estimators = n)\n",
    "    \n",
    "    start_time = datetime.datetime.now()\n",
    "    \n",
    "    score = cross_val_score(gbc, X_train, y_train, cv = kf, scoring = 'roc_auc').mean()\n",
    "    \n",
    "    elapsed_time = datetime.datetime.now() - start_time\n",
    "    scores[n] = score\n",
    "    etimes[n] = elapsed_time"
   ]
  },
  {
   "cell_type": "markdown",
   "metadata": {},
   "source": [
    "## Обработка результатов"
   ]
  },
  {
   "cell_type": "code",
   "execution_count": 193,
   "metadata": {},
   "outputs": [
    {
     "data": {
      "image/png": "[encoded data removed]",
      "text/plain": [
       "<Figure size 432x288 with 2 Axes>"
      ]
     },
     "metadata": {
      "needs_background": "light"
     },
     "output_type": "display_data"
    }
   ],
   "source": [
    "s = []\n",
    "for i in n_list:\n",
    "    s.append(etimes[i].total_seconds())\n",
    "plt.plot(etimes.keys(), s)\n",
    "\n",
    "plt.subplot(2, 1, 1)\n",
    "plt.plot(scores.keys(), scores.values(), 'o-')\n",
    "plt.title('Quality of Gradient Boosting and Calculation Time')\n",
    "plt.ylabel('ROC-AUC score')\n",
    "\n",
    "plt.subplot(2, 1, 2)\n",
    "plt.plot(etimes.keys(), s, 'o-')\n",
    "plt.xlabel('Number of Estimators')\n",
    "plt.ylabel('Seconds')\n",
    "plt.show()"
   ]
  },
  {
   "cell_type": "code",
   "execution_count": 194,
   "metadata": {},
   "outputs": [
    {
     "name": "stdout",
     "output_type": "stream",
     "text": [
      "n_estimators = 250. Scores = 0.72 Elapsed time = 1228.0 seconds\n",
      "n_estimators = 30. Scores = 0.69 Elapsed time = 135.0 seconds\n"
     ]
    }
   ],
   "source": [
    "print('n_estimators = 250. Scores =', round(max(scores.values()),2), 'Elapsed time =', round(max(etimes.values()).total_seconds(), 0), 'seconds')\n",
    "print('n_estimators = 30. Scores =', round(scores[30],2), 'Elapsed time =', round(etimes[30].total_seconds(),0), 'seconds')"
   ]
  },
  {
   "cell_type": "markdown",
   "metadata": {},
   "source": [
    "Классификаторы настраивались очень долго. Максимальное время при 250 деревьях превысило 20 минут. При этом оптимум на испытанных значениях параметра n_estimators (до 250) не достигнут и качество продолжает расти при увеличении числа деревьев. Для достижения большего качества имеет смысл использовать более 30 деревьев, поскольку точность результатов повышается. Для ускорения обучения можно использовать не всю выборку, а некоторое ее подмножество — например, половину объектов. Можно также уменьшить глубину деревьев (max_depth)."
   ]
  },
  {
   "cell_type": "markdown",
   "metadata": {},
   "source": [
    "# Подход 2: логистическая регрессия"
   ]
  },
  {
   "cell_type": "markdown",
   "metadata": {},
   "source": [
    "Оценим качество логистической регрессии с помощью кросс-валидации по той же схеме, которая использовалась для градиентного бустинга."
   ]
  },
  {
   "cell_type": "code",
   "execution_count": 177,
   "metadata": {},
   "outputs": [],
   "source": [
    "scaler = StandardScaler()\n",
    "X_train = pd.DataFrame(scaler.fit_transform(X_train), index = X_train.index, columns = X_train.columns)\n",
    "\n",
    "c = np.power(10.0, np.arange(-5, 5))\n",
    "scores2 = {}\n",
    "etimes2 = {}\n",
    "\n",
    "for p_reg in c:\n",
    "    log_reg = LogisticRegression(C = p_reg, penalty = 'l2', solver = 'lbfgs', random_state = 42)\n",
    "\n",
    "    start_time = datetime.datetime.now()\n",
    "    score = cross_val_score(log_reg, X_train, y_train, cv = kf, scoring = 'roc_auc').mean()\n",
    "    elapsed_time = datetime.datetime.now() - start_time\n",
    "    scores2[p_reg] = score\n",
    "    etimes2[p_reg] = elapsed_time"
   ]
  },
  {
   "cell_type": "code",
   "execution_count": 197,
   "metadata": {},
   "outputs": [
    {
     "data": {
      "image/png": "[encoded data removed]",
      "text/plain": [
       "<Figure size 432x288 with 2 Axes>"
      ]
     },
     "metadata": {
      "needs_background": "light"
     },
     "output_type": "display_data"
    }
   ],
   "source": [
    "s2 = []\n",
    "for i in c:\n",
    "    s2.append(etimes2[i].total_seconds())\n",
    "\n",
    "plt.subplot(2, 1, 1)\n",
    "plt.plot(np.log10(c), scores2.values(), 'o-')\n",
    "plt.title('Quality of Logistic Regression and Calculation Time')\n",
    "plt.ylabel('ROC-AUC score')\n",
    "\n",
    "plt.subplot(2, 1, 2)\n",
    "plt.plot(np.log10(c), s2, 'o-')\n",
    "plt.xlabel('Regularization Parameter')\n",
    "plt.ylabel('Seconds')\n",
    "plt.show()"
   ]
  },
  {
   "cell_type": "code",
   "execution_count": 204,
   "metadata": {},
   "outputs": [
    {
     "name": "stdout",
     "output_type": "stream",
     "text": [
      "C_best = 1.0 Scores = 0.72 Elapsed time = 11.0 seconds\n",
      "67.0\n"
     ]
    }
   ],
   "source": [
    "print('C_best =', list(scores2.keys())[list(scores2.values()).index(max(scores2.values()))], 'Scores =', round(max(scores2.values()),2), 'Elapsed time =', round(max(etimes2.values()).total_seconds(), 0), 'seconds')\n",
    "\n",
    "print(round(sum(s)/sum(s2[4:]), 0))"
   ]
  },
  {
   "cell_type": "markdown",
   "metadata": {},
   "source": [
    "Наилучший результат алгоритма - 0.72 (также как и у метода градиентного бустинга). Наилучший параметр регуляризации C = 1 (однако уже при C = 0.01 результат практически не отличается от максимального). При этом метод логистической регрессии работает в 67 раз быстрее (оцениваем время до достижения максимального результата у каждого алгоритма). Отсутствие разницы с градиентным бустингом может говорить о линейной зависимости между признаками и целевой переменной. Такая связь хорошо описывается логистической регрессией и применять более сложные модели не целесообразно. "
   ]
  },
  {
   "cell_type": "markdown",
   "metadata": {},
   "source": [
    "Среди признаков в выборке есть категориальные, которые мы использовали как числовые, что вряд ли является хорошей идеей. Категориальных признаков в этой задаче одиннадцать: lobby_type и r1_hero, r2_hero, ..., r5_hero, d1_hero, d2_hero, ..., d5_hero. Уберем их из выборки, и проведем кросс-валидацию для логистической регрессии на новой выборке с подбором лучшего параметра регуляризации."
   ]
  },
  {
   "cell_type": "code",
   "execution_count": 206,
   "metadata": {},
   "outputs": [],
   "source": [
    "hero_columns = [f'r{i}_hero' for i in range (1, 6)] + [f'd{i}_hero' for i in range (1, 6)]\n",
    "cat_columns = ['lobby_type'] + hero_columns\n",
    "\n",
    "X_train_cut = X_train.drop(cat_columns, axis = 1)"
   ]
  },
  {
   "cell_type": "code",
   "execution_count": 207,
   "metadata": {},
   "outputs": [],
   "source": [
    "X_train_cut = pd.DataFrame(scaler.fit_transform(X_train_cut), index = X_train_cut.index, columns = X_train_cut.columns)\n",
    "\n",
    "scores3 = {}\n",
    "etimes3 = {}\n",
    "\n",
    "for p_reg in c:\n",
    "    log_reg = LogisticRegression(C = p_reg, penalty = 'l2', solver = 'lbfgs', random_state = 42)\n",
    "\n",
    "    start_time = datetime.datetime.now()\n",
    "    score = cross_val_score(log_reg, X_train_cut, y_train, cv = kf, scoring = 'roc_auc').mean()\n",
    "    elapsed_time = datetime.datetime.now() - start_time\n",
    "    scores3[p_reg] = score\n",
    "    etimes3[p_reg] = elapsed_time"
   ]
  },
  {
   "cell_type": "code",
   "execution_count": 209,
   "metadata": {},
   "outputs": [
    {
     "data": {
      "image/png": "[encoded data removed]",
      "text/plain": [
       "<Figure size 432x288 with 2 Axes>"
      ]
     },
     "metadata": {
      "needs_background": "light"
     },
     "output_type": "display_data"
    }
   ],
   "source": [
    "s3 = []\n",
    "for i in c:\n",
    "    s3.append(etimes3[i].total_seconds())\n",
    "\n",
    "plt.subplot(2, 1, 1)\n",
    "plt.plot(np.log10(c), scores3.values(), 'o-')\n",
    "plt.title('Quality of Logistic Regression and Calculation Time')\n",
    "plt.ylabel('ROC-AUC score')\n",
    "\n",
    "plt.subplot(2, 1, 2)\n",
    "plt.plot(np.log10(c), s3, 'o-')\n",
    "plt.xlabel('Regularization Parameter')\n",
    "plt.ylabel('Seconds')\n",
    "plt.show()"
   ]
  },
  {
   "cell_type": "code",
   "execution_count": 210,
   "metadata": {},
   "outputs": [
    {
     "name": "stdout",
     "output_type": "stream",
     "text": [
      "C_best = 0.1 Scores = 0.72 Elapsed time = 15.0 seconds\n"
     ]
    }
   ],
   "source": [
    "print('C_best =', list(scores3.keys())[list(scores3.values()).index(max(scores3.values()))], 'Scores =', round(max(scores3.values()),2), 'Elapsed time =', round(max(etimes3.values()).total_seconds(), 0), 'seconds')"
   ]
  },
  {
   "cell_type": "markdown",
   "metadata": {},
   "source": [
    "Наилучшее значение показателя AUC-ROC достигается при C = 0.1 и также равно 0.72.\n",
    "Удаление категориальных признаков не повлияло на качество предсказания. Это означает, что в предыдущей модели эти признаки никак не влияли на результат предсказания (модель оказалась устойчива)."
   ]
  },
  {
   "cell_type": "markdown",
   "metadata": {},
   "source": [
    "На предыдущем шаге мы исключили из выборки признаки rM_hero и dM_hero, которые показывают, какие именно герои играли за каждую команду. Это важные признаки — герои имеют разные характеристики, и некоторые из них выигрывают чаще, чем другие. Выясним из данных, сколько различных идентификаторов героев существует в данной игре"
   ]
  },
  {
   "cell_type": "code",
   "execution_count": 245,
   "metadata": {},
   "outputs": [
    {
     "name": "stdout",
     "output_type": "stream",
     "text": [
      "В играх участвовали 108 уникальных героев\n"
     ]
    }
   ],
   "source": [
    "X_train_heroes = features.drop('radiant_win', axis = 1)\n",
    "X_train_heroes = X_train_heroes[hero_columns]\n",
    "unique_heroes = np.unique(X_train_heroes.values.ravel())\n",
    "\n",
    "L = len(unique_heroes)\n",
    "N = max(unique_heroes)\n",
    "\n",
    "print('В играх участвовали', L, 'уникальных героев')"
   ]
  },
  {
   "cell_type": "markdown",
   "metadata": {},
   "source": [
    "Воспользуемся подходом \"мешок слов\" для кодирования информации о героях. Пусть всего в игре имеется N различных героев. Сформируем N признаков, при этом i-й будет равен нулю, если i-й герой не участвовал в матче; единице, если i-й герой играл за команду Radiant; минус единице, если i-й герой играл за команду Dire."
   ]
  },
  {
   "cell_type": "code",
   "execution_count": 249,
   "metadata": {},
   "outputs": [
    {
     "name": "stdout",
     "output_type": "stream",
     "text": [
      "          hero_0  hero_1  hero_2  hero_3  hero_4  hero_5  hero_6  hero_7  \\\n",
      "match_id                                                                   \n",
      "0            0.0     0.0     0.0    -1.0     0.0     0.0     0.0     0.0   \n",
      "1            0.0     0.0     0.0     0.0     0.0     0.0    -1.0     0.0   \n",
      "2            0.0     0.0     0.0     1.0     0.0     0.0     0.0     0.0   \n",
      "3            0.0     0.0     0.0     0.0     0.0     0.0     0.0     0.0   \n",
      "4            0.0     0.0     0.0     0.0     0.0     0.0     0.0    -1.0   \n",
      "\n",
      "          hero_8  hero_9    ...     hero_102  hero_103  hero_104  hero_105  \\\n",
      "match_id                    ...                                              \n",
      "0            0.0     0.0    ...          0.0       0.0       1.0       0.0   \n",
      "1            0.0     0.0    ...          0.0       0.0       0.0       0.0   \n",
      "2            0.0     0.0    ...          0.0       0.0       0.0       0.0   \n",
      "3            0.0     0.0    ...          0.0       0.0       0.0       0.0   \n",
      "4            0.0     0.0    ...          0.0       0.0       0.0       0.0   \n",
      "\n",
      "          hero_106  hero_107  hero_108  hero_109  hero_110  hero_111  \n",
      "match_id                                                              \n",
      "0              0.0       0.0       0.0       0.0       0.0       0.0  \n",
      "1              0.0       0.0       0.0       0.0       0.0       0.0  \n",
      "2              0.0       0.0       0.0       0.0       0.0       0.0  \n",
      "3              0.0       0.0       0.0       0.0       0.0       0.0  \n",
      "4              0.0       0.0       0.0       0.0       0.0       0.0  \n",
      "\n",
      "[5 rows x 112 columns]\n"
     ]
    }
   ],
   "source": [
    "X_heroes = np.zeros((X_train_heroes.shape[0], N))\n",
    "for i, match_id in enumerate(X_train_heroes.index):\n",
    "    for p in range(1, 6):\n",
    "        X_heroes[i, X_train_heroes.loc[match_id, f'r{p}_hero'] - 1] = 1\n",
    "        X_heroes[i, X_train_heroes.loc[match_id, f'd{p}_hero'] - 1] = -1\n",
    "\n",
    "X_heroes = pd.DataFrame(X_heroes, index = X_train_heroes.index, columns=[f'hero_{i}' for i in range(N)])\n",
    "print(X_heroes.head())"
   ]
  },
  {
   "cell_type": "markdown",
   "metadata": {},
   "source": [
    "Добавим полученные признаки к числовым, которые мы использовали во втором пункте данного этапа."
   ]
  },
  {
   "cell_type": "code",
   "execution_count": 251,
   "metadata": {},
   "outputs": [],
   "source": [
    "X_train_with_heroes = pd.concat([X_train_cut, X_heroes], axis = 1)\n",
    "#print(X_train_with_heroes)"
   ]
  },
  {
   "cell_type": "markdown",
   "metadata": {},
   "source": [
    "Проведем кросс-валидацию для логистической регрессии на новой выборке с подбором лучшего параметра регуляризации. "
   ]
  },
  {
   "cell_type": "code",
   "execution_count": 252,
   "metadata": {},
   "outputs": [],
   "source": [
    "X_train_with_heroes = pd.DataFrame(scaler.fit_transform(X_train_with_heroes), index = X_train_with_heroes.index, columns = X_train_with_heroes.columns)\n",
    "\n",
    "c = np.power(10.0, np.arange(-5, 5))\n",
    "scores4 = {}\n",
    "etimes4 = {}\n",
    "\n",
    "for p_reg in c:\n",
    "    log_reg = LogisticRegression(C = p_reg, penalty = 'l2', solver = 'lbfgs', random_state = 42)\n",
    "\n",
    "    start_time = datetime.datetime.now()\n",
    "    score = cross_val_score(log_reg, X_train_with_heroes, y_train, cv = kf, scoring = 'roc_auc').mean()\n",
    "    elapsed_time = datetime.datetime.now() - start_time\n",
    "    scores4[p_reg] = score\n",
    "    etimes4[p_reg] = elapsed_time"
   ]
  },
  {
   "cell_type": "code",
   "execution_count": 253,
   "metadata": {},
   "outputs": [
    {
     "data": {
      "image/png": "[encoded data removed]",
      "text/plain": [
       "<Figure size 432x288 with 2 Axes>"
      ]
     },
     "metadata": {
      "needs_background": "light"
     },
     "output_type": "display_data"
    }
   ],
   "source": [
    "s4 = []\n",
    "for i in c:\n",
    "    s4.append(etimes4[i].total_seconds())\n",
    "\n",
    "plt.subplot(2, 1, 1)\n",
    "plt.plot(np.log10(c), scores4.values(), 'o-')\n",
    "plt.title('Quality of Logistic Regression and Calculation Time')\n",
    "plt.ylabel('ROC-AUC score')\n",
    "\n",
    "plt.subplot(2, 1, 2)\n",
    "plt.plot(np.log10(c), s4, 'o-')\n",
    "plt.xlabel('Regularization Parameter')\n",
    "plt.ylabel('Seconds')\n",
    "plt.show()"
   ]
  },
  {
   "cell_type": "code",
   "execution_count": 254,
   "metadata": {},
   "outputs": [
    {
     "name": "stdout",
     "output_type": "stream",
     "text": [
      "C_best = 100.0 Scores = 0.75 Elapsed time = 21.0 seconds\n"
     ]
    }
   ],
   "source": [
    "print('C_best =', list(scores4.keys())[list(scores4.values()).index(max(scores4.values()))], 'Scores =', round(max(scores4.values()),2), 'Elapsed time =', round(max(etimes4.values()).total_seconds(), 0), 'seconds')"
   ]
  },
  {
   "cell_type": "markdown",
   "metadata": {},
   "source": [
    "Наилучшее значение показателя AUC-ROC достигается при C = 100 и равно 0.75. После добавления \"мешка слов\" по героям качество обучения заметно улучшилось. Это связано с тем, что вместо отсутствия данных о героях или случайного шума  мы использовали их категориальные признаки для построения предсказания."
   ]
  },
  {
   "cell_type": "markdown",
   "metadata": {},
   "source": [
    "Построим предсказания вероятностей победы команды Radiant для тестовой выборки с помощью лучшей из изученных моделей (с точки зрения AUC-ROC на кросс-валидации)."
   ]
  },
  {
   "cell_type": "code",
   "execution_count": 267,
   "metadata": {},
   "outputs": [
    {
     "data": {
      "text/plain": [
       "LogisticRegression(C=100, class_weight=None, dual=False, fit_intercept=True,\n",
       "                   intercept_scaling=1, l1_ratio=None, max_iter=100,\n",
       "                   multi_class='warn', n_jobs=None, penalty='l2',\n",
       "                   random_state=42, solver='lbfgs', tol=0.0001, verbose=0,\n",
       "                   warm_start=False)"
      ]
     },
     "execution_count": 267,
     "metadata": {},
     "output_type": "execute_result"
    }
   ],
   "source": [
    "log_reg = LogisticRegression(C = 100, penalty = 'l2', solver = 'lbfgs', random_state = 42)\n",
    "log_reg.fit(X_train_with_heroes, y_train)"
   ]
  },
  {
   "cell_type": "code",
   "execution_count": 292,
   "metadata": {},
   "outputs": [],
   "source": [
    "features_test = pd.read_csv('features_test.csv', index_col = 'match_id')\n",
    "features_test.fillna(value = 0, inplace = True)\n",
    "\n",
    "X_test = features_test\n",
    "X_test_heroes = X_test[hero_columns]\n",
    "\n",
    "X_test = pd.DataFrame(scaler.transform(X_test), index = X_test.index, columns = X_test.columns)"
   ]
  },
  {
   "cell_type": "code",
   "execution_count": 296,
   "metadata": {},
   "outputs": [
    {
     "name": "stdout",
     "output_type": "stream",
     "text": [
      "          start_time  r1_level     r1_xp   r1_gold     r1_lh  r1_kills  \\\n",
      "match_id                                                                 \n",
      "6          -2.514875  0.474746 -0.237743 -0.137094 -0.370005 -0.532732   \n",
      "7          -2.513895 -1.365630 -1.207913 -1.255660 -1.145090 -0.532732   \n",
      "10         -2.512377 -1.365630 -0.862057 -0.742715 -1.145090 -0.532732   \n",
      "13         -2.508381 -0.445442 -0.938323 -0.537967 -1.145090  0.968865   \n",
      "16         -2.507087  0.474746  0.038942 -1.059534 -0.812911 -0.532732   \n",
      "\n",
      "          r1_deaths  r1_items  r2_level     r2_xp    ...     hero_102  \\\n",
      "match_id                                             ...                \n",
      "6          1.003884  0.305165 -0.368985  0.003979    ...          0.0   \n",
      "7         -0.593200  0.305165  0.567766  0.023887    ...          0.0   \n",
      "10        -0.593200  1.898546 -1.305736 -1.375081    ...          0.0   \n",
      "13         1.003884  1.101855 -1.305736 -0.920823    ...          0.0   \n",
      "16        -0.593200  0.305165  1.504517  0.945070    ...          0.0   \n",
      "\n",
      "          hero_103  hero_104  hero_105  hero_106  hero_107  hero_108  \\\n",
      "match_id                                                               \n",
      "6              0.0       0.0       0.0       0.0       0.0       0.0   \n",
      "7              0.0       0.0       0.0       0.0       0.0       0.0   \n",
      "10             0.0       0.0       0.0       0.0       0.0       0.0   \n",
      "13             0.0       0.0       0.0       0.0       0.0       0.0   \n",
      "16             0.0       0.0       0.0       0.0       0.0       0.0   \n",
      "\n",
      "          hero_109  hero_110  hero_111  \n",
      "match_id                                \n",
      "6              0.0       0.0       0.0  \n",
      "7              0.0       0.0       0.0  \n",
      "10             0.0       0.0       1.0  \n",
      "13            -1.0       0.0       0.0  \n",
      "16             0.0       0.0       0.0  \n",
      "\n",
      "[5 rows x 203 columns]\n"
     ]
    }
   ],
   "source": [
    "X_test_cut = X_test.drop(cat_columns, axis = 1)\n",
    "\n",
    "X_heroes = np.zeros((X_test_cut.shape[0], N))\n",
    "for i, match_id in enumerate(X_test_heroes.index):\n",
    "    for p in range(1, 6):\n",
    "        X_heroes[i, X_test_heroes.loc[match_id, f'r{p}_hero'] - 1] = 1\n",
    "        X_heroes[i, X_test_heroes.loc[match_id, f'd{p}_hero'] - 1] = -1\n",
    "\n",
    "X_heroes = pd.DataFrame(X_heroes, index = X_test_heroes.index, columns = [f'hero_{i}' for i in range(N)])\n",
    "X_test = pd.concat([X_test_cut, X_heroes], axis=1)\n",
    "print(X_test.head())"
   ]
  },
  {
   "cell_type": "code",
   "execution_count": 306,
   "metadata": {},
   "outputs": [],
   "source": [
    "predications = pd.Series(log_reg.predict_proba(X_test)[:, 1])"
   ]
  },
  {
   "cell_type": "markdown",
   "metadata": {},
   "source": [
    "Убедимся, что предсказанные вероятности адекватные — находятся на отрезке [0, 1], не совпадают между собой (т. е. что модель не получилась константной)."
   ]
  },
  {
   "cell_type": "code",
   "execution_count": 307,
   "metadata": {},
   "outputs": [
    {
     "name": "stdout",
     "output_type": "stream",
     "text": [
      "count    17177.000000\n",
      "mean         0.519837\n",
      "std          0.211957\n",
      "min          0.006602\n",
      "25%          0.359940\n",
      "50%          0.522135\n",
      "75%          0.684340\n",
      "max          0.995602\n",
      "dtype: float64\n"
     ]
    }
   ],
   "source": [
    "print(predications.describe())"
   ]
  },
  {
   "cell_type": "code",
   "execution_count": 308,
   "metadata": {},
   "outputs": [
    {
     "data": {
      "text/plain": [
       "<matplotlib.axes._subplots.AxesSubplot at 0x1164e65f8>"
      ]
     },
     "execution_count": 308,
     "metadata": {},
     "output_type": "execute_result"
    },
    {
     "data": {
      "image/png": "[encoded data removed]",
      "text/plain": [
       "<Figure size 432x288 with 1 Axes>"
      ]
     },
     "metadata": {
      "needs_background": "light"
     },
     "output_type": "display_data"
    }
   ],
   "source": [
    "predications.plot.hist(bins = 20)"
   ]
  },
  {
   "cell_type": "code",
   "execution_count": 305,
   "metadata": {},
   "outputs": [
    {
     "name": "stdout",
     "output_type": "stream",
     "text": [
      "Минимальная вероятность победы команды Rafiant - 0.007 максимальная - 0.996\n"
     ]
    }
   ],
   "source": [
    "print('Минимальная вероятность победы команды Rafiant -', round(min(predications), 3), 'максимальная -', round(max(predications),3))"
   ]
  },
  {
   "cell_type": "code",
   "execution_count": null,
   "metadata": {},
   "outputs": [],
   "source": []
  }
 ],
 "metadata": {
  "kernelspec": {
   "display_name": "Python 3",
   "language": "python",
   "name": "python3"
  },
  "language_info": {
   "codemirror_mode": {
    "name": "ipython",
    "version": 3
   },
   "file_extension": ".py",
   "mimetype": "text/x-python",
   "name": "python",
   "nbconvert_exporter": "python",
   "pygments_lexer": "ipython3",
   "version": "3.7.3"
  }
 },
 "nbformat": 4,
 "nbformat_minor": 2
}
