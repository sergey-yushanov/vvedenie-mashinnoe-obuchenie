{
 "cells": [
  {
   "cell_type": "code",
   "execution_count": 45,
   "metadata": {},
   "outputs": [],
   "source": [
    "import numpy as np\n",
    "import pandas as pd\n",
    "\n",
    "from sklearn.ensemble import GradientBoostingClassifier, RandomForestClassifier\n",
    "from sklearn.model_selection import train_test_split\n",
    "from sklearn.metrics import log_loss\n",
    "\n",
    "import matplotlib.pyplot as plt\n",
    "%matplotlib inline"
   ]
  },
  {
   "cell_type": "markdown",
   "metadata": {},
   "source": [
    "Загрузите выборку из файла gbm-data.csv с помощью pandas и преобразуйте ее в массив numpy (параметр values у датафрейма). В первой колонке файла с данными записано, была или нет реакция. Все остальные колонки (d1 - d1776) содержат различные характеристики молекулы, такие как размер, форма и т.д."
   ]
  },
  {
   "cell_type": "code",
   "execution_count": 2,
   "metadata": {},
   "outputs": [],
   "source": [
    "data = pd.read_csv('gbm-data.csv')"
   ]
  },
  {
   "cell_type": "code",
   "execution_count": 3,
   "metadata": {},
   "outputs": [
    {
     "data": {
      "text/html": [
       "<div>\n",
       "<style scoped>\n",
       "    .dataframe tbody tr th:only-of-type {\n",
       "        vertical-align: middle;\n",
       "    }\n",
       "\n",
       "    .dataframe tbody tr th {\n",
       "        vertical-align: top;\n",
       "    }\n",
       "\n",
       "    .dataframe thead th {\n",
       "        text-align: right;\n",
       "    }\n",
       "</style>\n",
       "<table border=\"1\" class=\"dataframe\">\n",
       "  <thead>\n",
       "    <tr style=\"text-align: right;\">\n",
       "      <th></th>\n",
       "      <th>Activity</th>\n",
       "      <th>D1</th>\n",
       "      <th>D2</th>\n",
       "      <th>D3</th>\n",
       "      <th>D4</th>\n",
       "      <th>D5</th>\n",
       "      <th>D6</th>\n",
       "      <th>D7</th>\n",
       "      <th>D8</th>\n",
       "      <th>D9</th>\n",
       "      <th>...</th>\n",
       "      <th>D1767</th>\n",
       "      <th>D1768</th>\n",
       "      <th>D1769</th>\n",
       "      <th>D1770</th>\n",
       "      <th>D1771</th>\n",
       "      <th>D1772</th>\n",
       "      <th>D1773</th>\n",
       "      <th>D1774</th>\n",
       "      <th>D1775</th>\n",
       "      <th>D1776</th>\n",
       "    </tr>\n",
       "  </thead>\n",
       "  <tbody>\n",
       "    <tr>\n",
       "      <th>0</th>\n",
       "      <td>1</td>\n",
       "      <td>0.000000</td>\n",
       "      <td>0.497009</td>\n",
       "      <td>0.10</td>\n",
       "      <td>0.0</td>\n",
       "      <td>0.132956</td>\n",
       "      <td>0.678031</td>\n",
       "      <td>0.273166</td>\n",
       "      <td>0.585445</td>\n",
       "      <td>0.743663</td>\n",
       "      <td>...</td>\n",
       "      <td>0</td>\n",
       "      <td>0</td>\n",
       "      <td>0</td>\n",
       "      <td>0</td>\n",
       "      <td>0</td>\n",
       "      <td>0</td>\n",
       "      <td>0</td>\n",
       "      <td>0</td>\n",
       "      <td>0</td>\n",
       "      <td>0</td>\n",
       "    </tr>\n",
       "    <tr>\n",
       "      <th>1</th>\n",
       "      <td>1</td>\n",
       "      <td>0.366667</td>\n",
       "      <td>0.606291</td>\n",
       "      <td>0.05</td>\n",
       "      <td>0.0</td>\n",
       "      <td>0.111209</td>\n",
       "      <td>0.803455</td>\n",
       "      <td>0.106105</td>\n",
       "      <td>0.411754</td>\n",
       "      <td>0.836582</td>\n",
       "      <td>...</td>\n",
       "      <td>1</td>\n",
       "      <td>1</td>\n",
       "      <td>1</td>\n",
       "      <td>1</td>\n",
       "      <td>0</td>\n",
       "      <td>1</td>\n",
       "      <td>0</td>\n",
       "      <td>0</td>\n",
       "      <td>1</td>\n",
       "      <td>0</td>\n",
       "    </tr>\n",
       "    <tr>\n",
       "      <th>2</th>\n",
       "      <td>1</td>\n",
       "      <td>0.033300</td>\n",
       "      <td>0.480124</td>\n",
       "      <td>0.00</td>\n",
       "      <td>0.0</td>\n",
       "      <td>0.209791</td>\n",
       "      <td>0.610350</td>\n",
       "      <td>0.356453</td>\n",
       "      <td>0.517720</td>\n",
       "      <td>0.679051</td>\n",
       "      <td>...</td>\n",
       "      <td>0</td>\n",
       "      <td>0</td>\n",
       "      <td>0</td>\n",
       "      <td>0</td>\n",
       "      <td>0</td>\n",
       "      <td>0</td>\n",
       "      <td>0</td>\n",
       "      <td>0</td>\n",
       "      <td>0</td>\n",
       "      <td>0</td>\n",
       "    </tr>\n",
       "    <tr>\n",
       "      <th>3</th>\n",
       "      <td>1</td>\n",
       "      <td>0.000000</td>\n",
       "      <td>0.538825</td>\n",
       "      <td>0.00</td>\n",
       "      <td>0.5</td>\n",
       "      <td>0.196344</td>\n",
       "      <td>0.724230</td>\n",
       "      <td>0.235606</td>\n",
       "      <td>0.288764</td>\n",
       "      <td>0.805110</td>\n",
       "      <td>...</td>\n",
       "      <td>0</td>\n",
       "      <td>0</td>\n",
       "      <td>0</td>\n",
       "      <td>0</td>\n",
       "      <td>0</td>\n",
       "      <td>0</td>\n",
       "      <td>0</td>\n",
       "      <td>0</td>\n",
       "      <td>0</td>\n",
       "      <td>0</td>\n",
       "    </tr>\n",
       "    <tr>\n",
       "      <th>4</th>\n",
       "      <td>0</td>\n",
       "      <td>0.100000</td>\n",
       "      <td>0.517794</td>\n",
       "      <td>0.00</td>\n",
       "      <td>0.0</td>\n",
       "      <td>0.494734</td>\n",
       "      <td>0.781422</td>\n",
       "      <td>0.154361</td>\n",
       "      <td>0.303809</td>\n",
       "      <td>0.812646</td>\n",
       "      <td>...</td>\n",
       "      <td>0</td>\n",
       "      <td>0</td>\n",
       "      <td>0</td>\n",
       "      <td>0</td>\n",
       "      <td>0</td>\n",
       "      <td>0</td>\n",
       "      <td>0</td>\n",
       "      <td>0</td>\n",
       "      <td>0</td>\n",
       "      <td>0</td>\n",
       "    </tr>\n",
       "  </tbody>\n",
       "</table>\n",
       "<p>5 rows × 1777 columns</p>\n",
       "</div>"
      ],
      "text/plain": [
       "   Activity        D1        D2    D3   D4        D5        D6        D7  \\\n",
       "0         1  0.000000  0.497009  0.10  0.0  0.132956  0.678031  0.273166   \n",
       "1         1  0.366667  0.606291  0.05  0.0  0.111209  0.803455  0.106105   \n",
       "2         1  0.033300  0.480124  0.00  0.0  0.209791  0.610350  0.356453   \n",
       "3         1  0.000000  0.538825  0.00  0.5  0.196344  0.724230  0.235606   \n",
       "4         0  0.100000  0.517794  0.00  0.0  0.494734  0.781422  0.154361   \n",
       "\n",
       "         D8        D9  ...  D1767  D1768  D1769  D1770  D1771  D1772  D1773  \\\n",
       "0  0.585445  0.743663  ...      0      0      0      0      0      0      0   \n",
       "1  0.411754  0.836582  ...      1      1      1      1      0      1      0   \n",
       "2  0.517720  0.679051  ...      0      0      0      0      0      0      0   \n",
       "3  0.288764  0.805110  ...      0      0      0      0      0      0      0   \n",
       "4  0.303809  0.812646  ...      0      0      0      0      0      0      0   \n",
       "\n",
       "   D1774  D1775  D1776  \n",
       "0      0      0      0  \n",
       "1      0      1      0  \n",
       "2      0      0      0  \n",
       "3      0      0      0  \n",
       "4      0      0      0  \n",
       "\n",
       "[5 rows x 1777 columns]"
      ]
     },
     "execution_count": 3,
     "metadata": {},
     "output_type": "execute_result"
    }
   ],
   "source": [
    "data.head()"
   ]
  },
  {
   "cell_type": "code",
   "execution_count": 8,
   "metadata": {},
   "outputs": [],
   "source": [
    "X = data.drop(['Activity'], axis=1).values\n",
    "y = data['Activity'].values"
   ]
  },
  {
   "cell_type": "markdown",
   "metadata": {},
   "source": [
    "Разбейте выборку на обучающую и тестовую, используя функцию train_test_split с параметрами test_size = 0.8 и random_state = 241."
   ]
  },
  {
   "cell_type": "code",
   "execution_count": 9,
   "metadata": {},
   "outputs": [],
   "source": [
    "X_train, X_test, y_train, y_test = train_test_split(X, y, test_size=0.8, random_state=241)"
   ]
  },
  {
   "cell_type": "code",
   "execution_count": 33,
   "metadata": {},
   "outputs": [],
   "source": [
    "def sigmoid(y_pred):\n",
    "    return 1.0 / (1.0 + np.exp(-y_pred))"
   ]
  },
  {
   "cell_type": "code",
   "execution_count": 34,
   "metadata": {},
   "outputs": [],
   "source": [
    "def plot_loss(test_loss, train_loss):\n",
    "    plt.figure()\n",
    "    plt.plot(test_loss, 'r', linewidth=2)\n",
    "    plt.plot(train_loss, 'g', linewidth=2)\n",
    "    plt.legend(['test', 'train'])\n",
    "    plt.show()"
   ]
  },
  {
   "cell_type": "code",
   "execution_count": 37,
   "metadata": {},
   "outputs": [],
   "source": [
    "def get_losses(clf, X, y):\n",
    "    losses = []\n",
    "    for y_pred in clf.staged_decision_function(X):\n",
    "        losses.append(log_loss(y, sigmoid(y_pred)))\n",
    "    losses = np.array(losses)\n",
    "    min_loss_iter = np.argmin(losses)\n",
    "    min_loss = losses[min_loss_iter]\n",
    "    return losses, min_loss, min_loss_iter+1"
   ]
  },
  {
   "cell_type": "markdown",
   "metadata": {},
   "source": [
    "Обучите GradientBoostingClassifier с параметрами n_estimators=250, verbose=True, random_state=241 и для каждого значения learning_rate из списка [1, 0.5, 0.3, 0.2, 0.1] проделайте следующее:\n",
    "\n",
    "* Используйте метод staged_decision_function для предсказания качества на обучающей и тестовой выборке на каждой итерации.\n",
    "* Преобразуйте полученное предсказание с помощью сигмоидной функции по формуле 1 / (1 + e^{−y_pred}), где y_pred — предсказанное значение.\n",
    "* Вычислите и постройте график значений log-loss (которую можно посчитать с помощью функции sklearn.metrics.log_loss) на обучающей и тестовой выборках, а также найдите минимальное значение метрики и номер итерации, на которой оно достигается."
   ]
  },
  {
   "cell_type": "code",
   "execution_count": 43,
   "metadata": {
    "scrolled": false
   },
   "outputs": [
    {
     "name": "stdout",
     "output_type": "stream",
     "text": [
      "      Iter       Train Loss   Remaining Time \n",
      "         1           1.0190           14.94s\n",
      "         2           0.9192           13.15s\n",
      "         3           0.8272           11.69s\n",
      "         4           0.7834           10.70s\n",
      "         5           0.7109           10.59s\n",
      "         6           0.6368           10.62s\n",
      "         7           0.5797           10.49s\n",
      "         8           0.5610           10.04s\n",
      "         9           0.5185            9.77s\n",
      "        10           0.4984            9.48s\n",
      "        20           0.1999            8.69s\n",
      "        30           0.1313            8.07s\n",
      "        40           0.0790            7.58s\n",
      "        50           0.0511            7.12s\n",
      "        60           0.0352            6.72s\n",
      "        70           0.0245            6.29s\n",
      "        80           0.0162            5.92s\n",
      "        90           0.0114            5.54s\n",
      "       100           0.0077            5.19s\n",
      "       200           0.0004            1.53s\n"
     ]
    },
    {
     "data": {
      "image/png": "[encoded data removed]",
      "text/plain": [
       "<Figure size 432x288 with 1 Axes>"
      ]
     },
     "metadata": {
      "needs_background": "light"
     },
     "output_type": "display_data"
    },
    {
     "name": "stdout",
     "output_type": "stream",
     "text": [
      "Learning rate = 1\n",
      "Train min loss = 0.00020857611394801498, iter = 181\n",
      "Test min loss = 0.5822942594278476, iter = 1\n",
      "\n",
      "      Iter       Train Loss   Remaining Time \n",
      "         1           1.1255           11.21s\n",
      "         2           1.0035           11.16s\n",
      "         3           0.9386           11.12s\n",
      "         4           0.8844           10.39s\n",
      "         5           0.8381           10.29s\n",
      "         6           0.7995            9.88s\n",
      "         7           0.7559            9.65s\n",
      "         8           0.7205            9.50s\n",
      "         9           0.6958            9.29s\n",
      "        10           0.6725            9.17s\n",
      "        20           0.4672            9.48s\n",
      "        30           0.3179            9.09s\n",
      "        40           0.2274            8.44s\n",
      "        50           0.1774            7.85s\n",
      "        60           0.1394            7.36s\n",
      "        70           0.1050            6.94s\n",
      "        80           0.0805            6.50s\n",
      "        90           0.0650            6.17s\n",
      "       100           0.0511            5.97s\n",
      "       200           0.0058            1.88s\n"
     ]
    },
    {
     "data": {
      "image/png": "[encoded data removed]",
      "text/plain": [
       "<Figure size 432x288 with 1 Axes>"
      ]
     },
     "metadata": {
      "needs_background": "light"
     },
     "output_type": "display_data"
    },
    {
     "name": "stdout",
     "output_type": "stream",
     "text": [
      "Learning rate = 0.5\n",
      "Train min loss = 0.0010223680763683195, iter = 250\n",
      "Test min loss = 0.5582025523164261, iter = 7\n",
      "\n",
      "      Iter       Train Loss   Remaining Time \n",
      "         1           1.2095           11.21s\n",
      "         2           1.1006           11.16s\n",
      "         3           1.0240           11.12s\n",
      "         4           0.9729           11.38s\n",
      "         5           0.9387           10.54s\n",
      "         6           0.8948           10.53s\n",
      "         7           0.8621           10.24s\n",
      "         8           0.8360            9.92s\n",
      "         9           0.8171            9.56s\n",
      "        10           0.7883            9.38s\n",
      "        20           0.6164            8.42s\n",
      "        30           0.4933            7.84s\n",
      "        40           0.4248            7.25s\n",
      "        50           0.3345            6.99s\n",
      "        60           0.2760            6.61s\n",
      "        70           0.2263            6.27s\n",
      "        80           0.1971            5.86s\n",
      "        90           0.1693            5.49s\n",
      "       100           0.1388            5.20s\n",
      "       200           0.0294            1.80s\n"
     ]
    },
    {
     "data": {
      "image/png": "[encoded data removed]",
      "text/plain": [
       "<Figure size 432x288 with 1 Axes>"
      ]
     },
     "metadata": {
      "needs_background": "light"
     },
     "output_type": "display_data"
    },
    {
     "name": "stdout",
     "output_type": "stream",
     "text": [
      "Learning rate = 0.3\n",
      "Train min loss = 0.006887291001447363, iter = 250\n",
      "Test min loss = 0.5423141110024554, iter = 11\n",
      "\n",
      "      Iter       Train Loss   Remaining Time \n",
      "         1           1.2613           11.95s\n",
      "         2           1.1715           11.66s\n",
      "         3           1.1009           11.45s\n",
      "         4           1.0529           11.26s\n",
      "         5           1.0130           11.27s\n",
      "         6           0.9740           11.27s\n",
      "         7           0.9475           10.73s\n",
      "         8           0.9197           10.71s\n",
      "         9           0.8979           10.34s\n",
      "        10           0.8730           10.27s\n",
      "        20           0.7207            8.90s\n",
      "        30           0.6055            8.13s\n",
      "        40           0.5244            7.58s\n",
      "        50           0.4501            7.21s\n",
      "        60           0.3908            6.79s\n",
      "        70           0.3372            6.40s\n",
      "        80           0.3009            6.01s\n",
      "        90           0.2603            5.67s\n",
      "       100           0.2327            5.28s\n",
      "       200           0.0835            1.72s\n"
     ]
    },
    {
     "data": {
      "image/png": "[encoded data removed]",
      "text/plain": [
       "<Figure size 432x288 with 1 Axes>"
      ]
     },
     "metadata": {
      "needs_background": "light"
     },
     "output_type": "display_data"
    },
    {
     "name": "stdout",
     "output_type": "stream",
     "text": [
      "Learning rate = 0.2\n",
      "Train min loss = 0.024906124380084917, iter = 250\n",
      "Test min loss = 0.531094637596885, iter = 37\n",
      "\n",
      "      Iter       Train Loss   Remaining Time \n",
      "         1           1.3199           11.21s\n",
      "         2           1.2645           11.16s\n",
      "         3           1.2170           11.11s\n",
      "         4           1.1775           11.19s\n",
      "         5           1.1404           11.32s\n",
      "         6           1.1106           11.23s\n",
      "         7           1.0844           11.49s\n",
      "         8           1.0617           11.46s\n",
      "         9           1.0411           11.54s\n",
      "        10           1.0223           11.57s\n",
      "        20           0.8864           10.20s\n",
      "        30           0.7844            9.10s\n",
      "        40           0.7176            8.60s\n",
      "        50           0.6590            7.99s\n",
      "        60           0.6120            7.38s\n",
      "        70           0.5599            6.96s\n",
      "        80           0.5242            6.60s\n",
      "        90           0.4829            6.16s\n",
      "       100           0.4473            5.82s\n",
      "       200           0.2379            1.89s\n"
     ]
    },
    {
     "data": {
      "image/png": "[encoded data removed]",
      "text/plain": [
       "<Figure size 432x288 with 1 Axes>"
      ]
     },
     "metadata": {
      "needs_background": "light"
     },
     "output_type": "display_data"
    },
    {
     "name": "stdout",
     "output_type": "stream",
     "text": [
      "Learning rate = 0.1\n",
      "Train min loss = 0.08936962416274086, iter = 250\n",
      "Test min loss = 0.5269201872275844, iter = 52\n",
      "\n"
     ]
    }
   ],
   "source": [
    "learning_rates = [1, 0.5, 0.3, 0.2, 0.1]\n",
    "\n",
    "for learning_rate in learning_rates:\n",
    "    clf = GradientBoostingClassifier(learning_rate=learning_rate, n_estimators=250, verbose=True, random_state=241)\n",
    "    clf.fit(X_train, y_train)\n",
    "    train_loss, train_loss_min, train_loss_iter = get_losses(clf, X_train, y_train)\n",
    "    test_loss, test_loss_min, test_loss_iter = get_losses(clf, X_test, y_test)\n",
    "    plot_loss(test_loss, train_loss)\n",
    "    print('Learning rate = {}'.format(learning_rate))\n",
    "    print('Train min loss = {}, iter = {}'.format(train_loss_min, train_loss_iter))\n",
    "    print('Test min loss = {}, iter = {}\\n'.format(test_loss_min, test_loss_iter))"
   ]
  },
  {
   "cell_type": "markdown",
   "metadata": {},
   "source": [
    " Как можно охарактеризовать график качества на тестовой выборке, начиная с некоторой итерации: переобучение (overfitting) или недообучение (underfitting)? В ответе укажите одно из слов overfitting либо underfitting."
   ]
  },
  {
   "cell_type": "code",
   "execution_count": 42,
   "metadata": {},
   "outputs": [
    {
     "name": "stdout",
     "output_type": "stream",
     "text": [
      "['overfitting']\n"
     ]
    }
   ],
   "source": [
    "answers = ['overfitting']\n",
    "print(answers)\n",
    "with open(\"gbm_answer1.txt\", \"w\") as fout:\n",
    "    fout.write(\" \".join([str(num) for num in answers]))"
   ]
  },
  {
   "cell_type": "markdown",
   "metadata": {},
   "source": [
    "Приведите минимальное значение log-loss на тестовой выборке и номер итерации, на котором оно достигается, при learning_rate = 0.2."
   ]
  },
  {
   "cell_type": "code",
   "execution_count": 44,
   "metadata": {},
   "outputs": [
    {
     "name": "stdout",
     "output_type": "stream",
     "text": [
      "[0.531094637596885, 37]\n"
     ]
    }
   ],
   "source": [
    "answers = [0.531094637596885, 37]\n",
    "print(answers)\n",
    "with open(\"gbm_answer2.txt\", \"w\") as fout:\n",
    "    fout.write(\" \".join([str(round(num, 2)) for num in answers]))"
   ]
  },
  {
   "cell_type": "markdown",
   "metadata": {},
   "source": [
    "На этих же данных обучите RandomForestClassifier с количеством деревьев, равным количеству итераций, на котором достигается наилучшее качество у градиентного бустинга из предыдущего пункта, c random_state=241 и остальными параметрами по умолчанию. Какое значение log-loss на тесте получается у этого случайного леса? (Не забывайте, что предсказания нужно получать с помощью функции predict_proba. В данном случае брать сигмоиду от оценки вероятности класса не нужно)"
   ]
  },
  {
   "cell_type": "code",
   "execution_count": 47,
   "metadata": {},
   "outputs": [
    {
     "data": {
      "text/plain": [
       "RandomForestClassifier(bootstrap=True, class_weight=None, criterion='gini',\n",
       "            max_depth=None, max_features='auto', max_leaf_nodes=None,\n",
       "            min_impurity_decrease=0.0, min_impurity_split=None,\n",
       "            min_samples_leaf=1, min_samples_split=2,\n",
       "            min_weight_fraction_leaf=0.0, n_estimators=52, n_jobs=None,\n",
       "            oob_score=False, random_state=241, verbose=0, warm_start=False)"
      ]
     },
     "execution_count": 47,
     "metadata": {},
     "output_type": "execute_result"
    }
   ],
   "source": [
    "clf = RandomForestClassifier(n_estimators=52, random_state=241)\n",
    "clf.fit(X_train, y_train)"
   ]
  },
  {
   "cell_type": "code",
   "execution_count": 48,
   "metadata": {},
   "outputs": [],
   "source": [
    "y_pred = clf.predict_proba(X_test)"
   ]
  },
  {
   "cell_type": "code",
   "execution_count": 50,
   "metadata": {},
   "outputs": [
    {
     "name": "stdout",
     "output_type": "stream",
     "text": [
      "[0.5383402553854034]\n"
     ]
    }
   ],
   "source": [
    "answers = [log_loss(y_test, y_pred)]\n",
    "print(answers)\n",
    "with open(\"gbm_answer3.txt\", \"w\") as fout:\n",
    "    fout.write(\" \".join([str(round(num, 2)) for num in answers]))"
   ]
  },
  {
   "cell_type": "code",
   "execution_count": null,
   "metadata": {},
   "outputs": [],
   "source": []
  }
 ],
 "metadata": {
  "kernelspec": {
   "display_name": "Python 3",
   "language": "python",
   "name": "python3"
  },
  "language_info": {
   "codemirror_mode": {
    "name": "ipython",
    "version": 3
   },
   "file_extension": ".py",
   "mimetype": "text/x-python",
   "name": "python",
   "nbconvert_exporter": "python",
   "pygments_lexer": "ipython3",
   "version": "3.7.3"
  }
 },
 "nbformat": 4,
 "nbformat_minor": 2
}
