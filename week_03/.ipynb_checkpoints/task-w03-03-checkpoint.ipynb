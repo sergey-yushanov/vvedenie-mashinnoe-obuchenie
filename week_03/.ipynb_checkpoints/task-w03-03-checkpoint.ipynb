{
 "cells": [
  {
   "cell_type": "code",
   "execution_count": 2,
   "metadata": {},
   "outputs": [],
   "source": [
    "import numpy as np\n",
    "import pandas as pd\n",
    "\n",
    "from sklearn.metrics import roc_auc_score"
   ]
  },
  {
   "cell_type": "markdown",
   "metadata": {},
   "source": [
    "Загрузите данные из файла data-logistic.csv. Это двумерная выборка, целевая переменная на которой принимает значения -1 или 1."
   ]
  },
  {
   "cell_type": "code",
   "execution_count": 3,
   "metadata": {},
   "outputs": [],
   "source": [
    "col_names = ['target', 'x1', 'x2']"
   ]
  },
  {
   "cell_type": "code",
   "execution_count": 4,
   "metadata": {},
   "outputs": [],
   "source": [
    "data = pd.read_csv('data-logistic.csv', names=col_names)"
   ]
  },
  {
   "cell_type": "code",
   "execution_count": 5,
   "metadata": {},
   "outputs": [
    {
     "data": {
      "text/html": [
       "<div>\n",
       "<style scoped>\n",
       "    .dataframe tbody tr th:only-of-type {\n",
       "        vertical-align: middle;\n",
       "    }\n",
       "\n",
       "    .dataframe tbody tr th {\n",
       "        vertical-align: top;\n",
       "    }\n",
       "\n",
       "    .dataframe thead th {\n",
       "        text-align: right;\n",
       "    }\n",
       "</style>\n",
       "<table border=\"1\" class=\"dataframe\">\n",
       "  <thead>\n",
       "    <tr style=\"text-align: right;\">\n",
       "      <th></th>\n",
       "      <th>target</th>\n",
       "      <th>x1</th>\n",
       "      <th>x2</th>\n",
       "    </tr>\n",
       "  </thead>\n",
       "  <tbody>\n",
       "    <tr>\n",
       "      <th>0</th>\n",
       "      <td>-1</td>\n",
       "      <td>-0.663827</td>\n",
       "      <td>-0.138526</td>\n",
       "    </tr>\n",
       "    <tr>\n",
       "      <th>1</th>\n",
       "      <td>1</td>\n",
       "      <td>1.994596</td>\n",
       "      <td>2.468025</td>\n",
       "    </tr>\n",
       "    <tr>\n",
       "      <th>2</th>\n",
       "      <td>-1</td>\n",
       "      <td>-1.247395</td>\n",
       "      <td>0.749425</td>\n",
       "    </tr>\n",
       "    <tr>\n",
       "      <th>3</th>\n",
       "      <td>1</td>\n",
       "      <td>2.309374</td>\n",
       "      <td>1.899836</td>\n",
       "    </tr>\n",
       "    <tr>\n",
       "      <th>4</th>\n",
       "      <td>1</td>\n",
       "      <td>0.849143</td>\n",
       "      <td>2.407750</td>\n",
       "    </tr>\n",
       "  </tbody>\n",
       "</table>\n",
       "</div>"
      ],
      "text/plain": [
       "   target        x1        x2\n",
       "0      -1 -0.663827 -0.138526\n",
       "1       1  1.994596  2.468025\n",
       "2      -1 -1.247395  0.749425\n",
       "3       1  2.309374  1.899836\n",
       "4       1  0.849143  2.407750"
      ]
     },
     "execution_count": 5,
     "metadata": {},
     "output_type": "execute_result"
    }
   ],
   "source": [
    "data.head()"
   ]
  },
  {
   "cell_type": "code",
   "execution_count": 6,
   "metadata": {},
   "outputs": [],
   "source": [
    "X = data.drop(['target'], axis=1).to_numpy()\n",
    "y = data['target'].to_numpy()"
   ]
  },
  {
   "cell_type": "markdown",
   "metadata": {},
   "source": [
    "Убедитесь, что выше выписаны правильные формулы для градиентного спуска. Обратите внимание, что мы используем полноценный градиентный спуск, а не его стохастический вариант!\n",
    "\n",
    " Используйте длину шага k=0.1. В качестве начального приближения используйте вектор (0, 0). Запустите градиентный спуск и доведите до сходимости (евклидово расстояние между векторами весов на соседних итерациях должно быть не больше 1e-5). Рекомендуется ограничить сверху число итераций десятью тысячами."
   ]
  },
  {
   "cell_type": "code",
   "execution_count": 35,
   "metadata": {},
   "outputs": [],
   "source": [
    "def grad_descent(X, y, C, k, w):\n",
    "    w1, w2 = w[0], w[1]\n",
    "    n_iter_ret = 0\n",
    "    for n_iter in range(10000):\n",
    "        n_iter_ret += 1\n",
    "        exp_ = (1.0 - 1.0 / (1.0 + np.exp(- (y * (w1 * X[:,0] + w2 * X[:,1])))))\n",
    "        w1_new = w1 + k * np.mean(y * X[:,0] * exp_) - k * C * w1\n",
    "        w2_new = w2 + k * np.mean(y * X[:,1] * exp_) - k * C * w2\n",
    "        dist = np.linalg.norm(np.array(([w1_new, w2_new])) - np.array(([w1, w2])))\n",
    "        w1, w2 = w1_new, w2_new\n",
    "        if dist <= 1e-5:\n",
    "            break;\n",
    "    return [w1, w2], n_iter_ret"
   ]
  },
  {
   "cell_type": "markdown",
   "metadata": {},
   "source": [
    "Обратите внимание, что на вход функции roc_auc_score нужно подавать оценки вероятностей, подсчитанные обученным алгоритмом. Для этого воспользуйтесь сигмоидной функцией: a(x) = 1 / (1 + exp(-w1 x1 - w2 x2))."
   ]
  },
  {
   "cell_type": "code",
   "execution_count": 36,
   "metadata": {},
   "outputs": [],
   "source": [
    "def log_reg(X, w1, w2):\n",
    "    return 1.0 / (1.0 + np.exp(- w1*X[:,0] - w2*X[:,1]))"
   ]
  },
  {
   "cell_type": "markdown",
   "metadata": {},
   "source": [
    "Реализуйте градиентный спуск для обычной и L2-регуляризованной (с коэффициентом регуляризации 10) логистической регрессии."
   ]
  },
  {
   "cell_type": "code",
   "execution_count": 48,
   "metadata": {},
   "outputs": [
    {
     "name": "stdout",
     "output_type": "stream",
     "text": [
      "244\n"
     ]
    }
   ],
   "source": [
    "C = 0\n",
    "k = 0.1\n",
    "[w1, w2], n_iter = grad_descent(X, y, C, k, [0, 0])\n",
    "print(n_iter)\n",
    "y_pred = log_reg(X, w1, w2)\n",
    "score_1 = roc_auc_score(y, y_pred)"
   ]
  },
  {
   "cell_type": "code",
   "execution_count": 49,
   "metadata": {},
   "outputs": [
    {
     "name": "stdout",
     "output_type": "stream",
     "text": [
      "8\n"
     ]
    }
   ],
   "source": [
    "C = 10\n",
    "k = 0.1\n",
    "[w1, w2], n_iter = grad_descent(X, y, C, k, [0, 0])\n",
    "print(n_iter)\n",
    "y_pred = log_reg(X, w1, w2)\n",
    "score_2 = roc_auc_score(y, y_pred)"
   ]
  },
  {
   "cell_type": "markdown",
   "metadata": {},
   "source": [
    "Какое значение принимает AUC-ROC на обучении без регуляризации и при ее использовании? Эти величины будут ответом на задание. В качестве ответа приведите два числа через пробел."
   ]
  },
  {
   "cell_type": "code",
   "execution_count": 20,
   "metadata": {},
   "outputs": [
    {
     "name": "stdout",
     "output_type": "stream",
     "text": [
      "[0.9268571428571428, 0.9362857142857142]\n"
     ]
    }
   ],
   "source": [
    "answers = [score_1, score_2]\n",
    "print(answers)\n",
    "with open(\"grad_answer1.txt\", \"w\") as fout:\n",
    "    fout.write(\" \".join([str(round(num, 3)) for num in answers]))"
   ]
  },
  {
   "cell_type": "markdown",
   "metadata": {},
   "source": [
    "Попробуйте поменять длину шага. Будет ли сходиться алгоритм, если делать более длинные шаги? Как меняется число итераций при уменьшении длины шага?\n",
    "\n",
    "Попробуйте менять начальное приближение. Влияет ли оно на что-нибудь?"
   ]
  },
  {
   "cell_type": "code",
   "execution_count": 50,
   "metadata": {},
   "outputs": [
    {
     "name": "stdout",
     "output_type": "stream",
     "text": [
      "1427\n",
      "468\n",
      "283\n",
      "45\n",
      "24\n",
      "16\n",
      "10\n",
      "10000\n"
     ]
    }
   ],
   "source": [
    "C = 1\n",
    "for k in [0.001, 0.005, 0.01, 0.1, 0.2, 0.3, 0.5, 0.8]:\n",
    "    [w1, w2], n_iter = grad_descent(X, y, C, k, [0, 0])\n",
    "    print(n_iter)"
   ]
  },
  {
   "cell_type": "code",
   "execution_count": 53,
   "metadata": {},
   "outputs": [
    {
     "name": "stdout",
     "output_type": "stream",
     "text": [
      "41\n",
      "81\n",
      "88\n",
      "110\n",
      "81\n",
      "57\n",
      "84\n",
      "109\n",
      "88\n",
      "84\n",
      "64\n",
      "109\n",
      "110\n",
      "110\n",
      "110\n",
      "87\n"
     ]
    }
   ],
   "source": [
    "C = 1\n",
    "k = 0.1\n",
    "for w1 in [1, 5, 10, 100]:\n",
    "    for w2 in [1, 5, 10, 100]:\n",
    "        _, n_iter = grad_descent(X, y, C, k, [w1, w2])\n",
    "        print(n_iter)"
   ]
  },
  {
   "cell_type": "code",
   "execution_count": null,
   "metadata": {},
   "outputs": [],
   "source": []
  }
 ],
 "metadata": {
  "kernelspec": {
   "display_name": "Python 3",
   "language": "python",
   "name": "python3"
  },
  "language_info": {
   "codemirror_mode": {
    "name": "ipython",
    "version": 3
   },
   "file_extension": ".py",
   "mimetype": "text/x-python",
   "name": "python",
   "nbconvert_exporter": "python",
   "pygments_lexer": "ipython3",
   "version": "3.7.3"
  }
 },
 "nbformat": 4,
 "nbformat_minor": 2
}
